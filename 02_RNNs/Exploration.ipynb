{
 "cells": [
  {
   "cell_type": "markdown",
   "metadata": {},
   "source": [
    "# 02: RNN Architecture Exploration\n",
    "\n",
    "Recurrent Neural Networks are an specific type of neural network architecture which are able to encode tempral relationships. An RNN cell gets and input and creates an output at every time step. The output is then fed in the next cell again. With the output of the previous cell and the input at the current time steps, the RNN cell can detect temporal relatiionships much better. In the picture below you can see how each input and output of the previous cell is fed into the current cell. Furthermore, there are two ways of sketching such an architecture.\n",
    "\n",
    "![RNN Architecture](https://miro.medium.com/max/3172/1*mHimR6ok4bAEYhKESwhdrg.png)\n",
    "\n",
    "#### Keras Example\n",
    "\n",
    "For this example, we are using LSTM cells which stands for Long-Short-Term-Memory cells. This is because the cell has a specific internal structure that allows it to decide which information it should forget and which information it should keep. You can see the structure of an LSTM cell in the figure below.\n",
    "![LSTM Cell](https://i.stack.imgur.com/Iv3nU.png)"
   ]
  },
  {
   "cell_type": "code",
   "execution_count": 18,
   "metadata": {},
   "outputs": [
    {
     "name": "stdout",
     "output_type": "stream",
     "text": [
      "Train on 60000 samples, validate on 10000 samples\n",
      "Epoch 1/4\n",
      "WARNING:tensorflow:Entity <function Function._initialize_uninitialized_variables.<locals>.initialize_variables at 0x7fa3218ca950> could not be transformed and will be executed as-is. Please report this to the AutoGraph team. When filing the bug, set the verbosity to 10 (on Linux, `export AUTOGRAPH_VERBOSITY=10`) and attach the full output. Cause: module 'gast' has no attribute 'Num'\n",
      "WARNING: Entity <function Function._initialize_uninitialized_variables.<locals>.initialize_variables at 0x7fa3218ca950> could not be transformed and will be executed as-is. Please report this to the AutoGraph team. When filing the bug, set the verbosity to 10 (on Linux, `export AUTOGRAPH_VERBOSITY=10`) and attach the full output. Cause: module 'gast' has no attribute 'Num'\n",
      "60000/60000 [==============================] - 28s 470us/sample - loss: 0.7924 - accuracy: 0.7299 - val_loss: 0.2435 - val_accuracy: 0.9263\n",
      "Epoch 2/4\n",
      "60000/60000 [==============================] - 27s 444us/sample - loss: 0.2593 - accuracy: 0.9239 - val_loss: 0.1469 - val_accuracy: 0.9546\n",
      "Epoch 3/4\n",
      "60000/60000 [==============================] - 28s 465us/sample - loss: 0.1789 - accuracy: 0.9478 - val_loss: 0.1183 - val_accuracy: 0.9624\n",
      "Epoch 4/4\n",
      "60000/60000 [==============================] - 28s 459us/sample - loss: 0.1392 - accuracy: 0.9605 - val_loss: 0.0829 - val_accuracy: 0.9733\n"
     ]
    },
    {
     "data": {
      "text/plain": [
       "<tensorflow.python.keras.callbacks.History at 0x7fa3218d2450>"
      ]
     },
     "execution_count": 18,
     "metadata": {},
     "output_type": "execute_result"
    }
   ],
   "source": [
    "import tensorflow as tf\n",
    "\n",
    "from tensorflow import keras\n",
    "\n",
    "mnist = keras.datasets.mnist\n",
    "(x_train, y_train), (x_test, y_test) = mnist.load_data()\n",
    "\n",
    "x_train = x_train / 255.0\n",
    "x_test = x_test / 255.0\n",
    "\n",
    "model = keras.Sequential([\n",
    "    keras.layers.LSTM(32, input_shape=(28,28), activation='relu', return_sequences=True),\n",
    "    keras.layers.Dropout(0.2),\n",
    "    keras.layers.LSTM(32, activation='relu'),\n",
    "    keras.layers.Dropout(0.2),\n",
    "    keras.layers.Dense(32, activation='relu'),\n",
    "    keras.layers.Dense(10, activation='softmax')\n",
    "])\n",
    "\n",
    "model.compile(optimizer='adam', loss='sparse_categorical_crossentropy', metrics=['accuracy'])\n",
    "\n",
    "model.fit(x_train,y_train, epochs = 4, batch_size= 32, validation_data=(x_test, y_test))"
   ]
  },
  {
   "cell_type": "markdown",
   "metadata": {},
   "source": [
    "## Takeaways\n"
   ]
  }
 ],
 "metadata": {
  "kernelspec": {
   "display_name": "Python 3",
   "language": "python",
   "name": "python3"
  },
  "language_info": {
   "codemirror_mode": {
    "name": "ipython",
    "version": 3
   },
   "file_extension": ".py",
   "mimetype": "text/x-python",
   "name": "python",
   "nbconvert_exporter": "python",
   "pygments_lexer": "ipython3",
   "version": "3.7.4"
  }
 },
 "nbformat": 4,
 "nbformat_minor": 2
}
