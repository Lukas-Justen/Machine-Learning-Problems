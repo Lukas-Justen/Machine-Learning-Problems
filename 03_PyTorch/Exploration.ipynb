{
 "cells": [
  {
   "cell_type": "markdown",
   "metadata": {},
   "source": [
    "# 03: PyTorch Exploration\n",
    "\n",
    "For this exploration notebook I wanted to take a look at pytorch which is also a pretty popular deep learning library. In fact, PyTorch has a strong connection to numpy which makes is particularly easy to learn for beginners that already know numpy and python. Compared to Tensorflow PyTorch seems to add less overhead effort when writing the code for a neural network. For instance, before Tensorflow 2.0 people had to handle placeholders and sessions. However, PyTorch networks might be a little harder to deploy because Tensorflow is widely adopted and supported. Nonetheless, PtTorch is gaining some momentum and might be a competitive rival to Tensorflow.\n",
    "\n",
    "Too understand some core parts of PyTorch I wanted to use the MNIST dataset and build a small convolutional neural network using PyTorch. Since I already trained some networks with Tensorflow/Keras and MNIST I wanted to see what are the differences of both frameworks. But first I checked out some basic functionalities like Tensors and convolutional layers with PyTorch.\n",
    "\n",
    "#### Installation\n",
    "To use PyTorch on your machine you simply need to use the following conda command. It seems that there is a special dependency called torchvision. This package contains \"popular datasets, model architectures, and common image transformations for computer vision\" according to the PyTorch documentation. The conda command is:\n",
    "\n",
    "```shell\n",
    "conda install pytorch torchvision -c pytorch\n",
    "```"
   ]
  },
  {
   "cell_type": "code",
   "execution_count": 187,
   "metadata": {},
   "outputs": [],
   "source": [
    "import torch\n",
    "import torchvision\n",
    "import torch.nn as nn\n",
    "import torch.nn.functional as F\n",
    "import torch.optim as optim\n",
    "import matplotlib.pyplot as plt"
   ]
  },
  {
   "cell_type": "markdown",
   "metadata": {},
   "source": [
    "#### Playground\n",
    "\n",
    "First, I tried to initialize a new random Tensor which seems to be very easy. According to the documentation a numpy array is basically a Tensor. That means that you can switch between both types. However, if you change one variable that will also reflect all the other variables that were derived using the changed var because it's still the same object in memory:"
   ]
  },
  {
   "cell_type": "code",
   "execution_count": 168,
   "metadata": {},
   "outputs": [
    {
     "name": "stdout",
     "output_type": "stream",
     "text": [
      "tensor([[0.0630, 0.2087]])\n",
      "numpy([[0.06301582 0.20872039]])\n",
      "\n",
      "tensor([[1.0000, 0.2087]])\n",
      "numpy([[1.         0.20872039]])\n"
     ]
    }
   ],
   "source": [
    "x1 = torch.rand(1,2)\n",
    "print(x1)\n",
    "x2 = x1.numpy()\n",
    "print(\"numpy(\", x2, \")\", sep=\"\")\n",
    "print()\n",
    "\n",
    "x2[0,0] = 1\n",
    "\n",
    "print(x1)\n",
    "print(\"numpy(\", x2, \")\", sep=\"\")"
   ]
  },
  {
   "cell_type": "markdown",
   "metadata": {},
   "source": [
    "Secondly, I wanted to take a look at the convolutional layers and see how they work. Therfore, I initialized a random Tensor and applied a convolutional filter to the Tensor. The result is a new Tensor. I was primariily interested in the shape of the resulting Tensor. I wanted to do this because the neural network I wanted to build should involve conv layers. As a result, i need to know the dimensions of the tensors that I pass into the subsequent layers:"
   ]
  },
  {
   "cell_type": "code",
   "execution_count": 169,
   "metadata": {},
   "outputs": [
    {
     "name": "stdout",
     "output_type": "stream",
     "text": [
      "torch.Size([1, 1, 28, 28])\n",
      "torch.Size([1, 10, 28, 24])\n"
     ]
    }
   ],
   "source": [
    "m = nn.Conv2d(1, 10, kernel_size=5, padding=(2,0))\n",
    "input = torch.randn(1, 1, 28, 28)\n",
    "output = m(input)\n",
    "\n",
    "print(input.shape)\n",
    "print(output.shape)"
   ]
  },
  {
   "cell_type": "markdown",
   "metadata": {},
   "source": [
    "You can see that the padding (2, 0) adds padding values to the left and right side of the image. As a result, the output shape has the same dimension from left to right as the input Tensor image. The first dimension of the vector denotes the batch dimension while the subsequent dimensions describe the image itself.\n",
    "\n",
    "The kernel of size 5 is a 5x5 mask that will be moved over the whole image. The kernel computes the dot product of it's values with the values of the area that it covers at a time. Basically a kernel generates features for a single cell by looking at the values of the surounding cells. If there is no padding at all the kernel needs to stay 2 cells away from the image to calculate the value at the center of the kernel. A 28x28 image would shrink on each side by 2 pixels which results in a 24x24 image. By adding a padding of 2 to each side you would get a 28x28 image again."
   ]
  },
  {
   "cell_type": "markdown",
   "metadata": {},
   "source": [
    "#### Data\n",
    "\n",
    "To get the data for our MNIST network you can initialize a data loader which is given by PyTorch. PyTorch also allows you to use transformations which will be applied to each sample in the given dataset. In our case we convert each 1x28x28 image to a Tensor. As a result we will get a List or DataLoader of 60000 samples with 1x28x28 images. A nice feature is the normalize transform which allows you to normalize each value using the given normalization values. The first value denotes the mean and the second value the standard deviation.\n",
    "\n",
    "The data will be stored in the given directory. Furthermore you can specify if the data should be shuffeld which should be the case and you can specify the batch size for your training and testing loop. This seems to be a big difference compared to Keras and Tensorflow. For those frameworks you would need to specify the batch size in the fit function."
   ]
  },
  {
   "cell_type": "code",
   "execution_count": 170,
   "metadata": {},
   "outputs": [],
   "source": [
    "train_loader = torch.utils.data.DataLoader(\n",
    "    torchvision.datasets.MNIST('./data/', train=True, download=True\n",
    "                               , transform=torchvision.transforms.Compose([\n",
    "                                   torchvision.transforms.ToTensor(), \n",
    "                                   torchvision.transforms.Normalize((0.1307,), (0.3081,))]))\n",
    "    , batch_size=64, shuffle=True)\n",
    "\n",
    "\n",
    "test_loader = torch.utils.data.DataLoader(\n",
    "    torchvision.datasets.MNIST('./data/', train=False, download=True\n",
    "                               , transform=torchvision.transforms.Compose([\n",
    "                                   torchvision.transforms.ToTensor(),\n",
    "                                   torchvision.transforms.Normalize((0.1307,), (0.3081,))]))\n",
    "    , batch_size=64, shuffle=True)"
   ]
  },
  {
   "cell_type": "markdown",
   "metadata": {},
   "source": [
    "#### Network\n",
    "To create a new PyTorch network you simply need to build a new python class which extends from the nn.Module. In the constructor of the class you should initialize all the layers that you need. In the forward function of the class you need to specify how the forward pass through the network is defined. Personally I had two major questions:\n",
    "\n",
    "1. Can you reuse layers which you specified in your constructor for multiple times?\n",
    "    - Yes you can reuse a layer multiple times within the forward pass function.\n",
    "2. What is the view function for and what does the function compute?\n",
    "    - Basically reshapes the given tensor. In this case we try to flatten the tensor."
   ]
  },
  {
   "cell_type": "code",
   "execution_count": 180,
   "metadata": {},
   "outputs": [],
   "source": [
    "class MNIST_Net(nn.Module):\n",
    "    def __init__(self):\n",
    "        super(MNIST_Net, self).__init__()\n",
    "        self.conv1 = nn.Conv2d(1, 8, kernel_size=(5,5))\n",
    "        self.conv2 = nn.Conv2d(8, 16, kernel_size=(5,5))\n",
    "        self.conv2_drop = nn.Dropout2d()\n",
    "        self.fc1 = nn.Linear(256, 64)\n",
    "        self.fc2 = nn.Linear(64, 10)\n",
    "\n",
    "    def forward(self, x):\n",
    "        x = F.relu(F.max_pool2d(self.conv1(x), 2))\n",
    "        x = F.relu(F.max_pool2d(self.conv2_drop(self.conv2(x)), 2))\n",
    "        x = x.view(-1, 256)\n",
    "        x = F.relu(self.fc1(x))\n",
    "        x = F.dropout(x, training=self.training)\n",
    "        x = self.fc2(x)\n",
    "        return F.log_softmax(x, dim=1)"
   ]
  },
  {
   "cell_type": "code",
   "execution_count": 181,
   "metadata": {},
   "outputs": [],
   "source": [
    "network = MNIST_Net()\n",
    "optimizer = optim.SGD(network.parameters(), lr=0.01, momentum=0.5)"
   ]
  },
  {
   "cell_type": "markdown",
   "metadata": {},
   "source": [
    "#### Training/Testing\n",
    "A major difference to Tensorflow and Keras is that you need to code the training process (fit) and testing process (evaluate) by yourself. For example, that also means that you need to keep track of the training history by yourself. Thus, we need to initialize two list to store the losses or training accuracies. Later you could visualize the loss over time.\n",
    "\n",
    "To run the training loop you basically only need to setup a loop that calls the train and test function to generate validation results. This whole process might look a little tricky but it also allows you to customize everything depending on your needs."
   ]
  },
  {
   "cell_type": "code",
   "execution_count": 182,
   "metadata": {},
   "outputs": [],
   "source": [
    "train_losses = []\n",
    "test_losses = []"
   ]
  },
  {
   "cell_type": "code",
   "execution_count": 183,
   "metadata": {},
   "outputs": [],
   "source": [
    "def train(epoch):\n",
    "    network.train()\n",
    "    for batch_idx, (data, target) in enumerate(train_loader):\n",
    "        optimizer.zero_grad()\n",
    "        output = network(data)\n",
    "        loss = F.nll_loss(output, target)\n",
    "        loss.backward()\n",
    "        optimizer.step()\n",
    "        if batch_idx % 100 == 0:\n",
    "            print('Train Epoch: {} [{}/{} ({:.0f}%)]\\tLoss: {:.6f}'.format(\n",
    "            epoch, batch_idx * len(data), len(train_loader.dataset),\n",
    "            100. * batch_idx / len(train_loader), loss.item()))\n",
    "            train_losses.append(loss.item())"
   ]
  },
  {
   "cell_type": "code",
   "execution_count": 184,
   "metadata": {},
   "outputs": [],
   "source": [
    "def test():\n",
    "    network.eval()\n",
    "    test_loss = 0\n",
    "    correct = 0\n",
    "    with torch.no_grad():\n",
    "        for data, target in test_loader:\n",
    "            output = network(data)\n",
    "            test_loss += F.nll_loss(output, target, size_average=False).item()\n",
    "            pred = output.data.max(1, keepdim=True)[1]\n",
    "            correct += pred.eq(target.data.view_as(pred)).sum()\n",
    "    test_loss /= len(test_loader.dataset)\n",
    "    test_losses.append(test_loss)\n",
    "    print('\\nTest set: Avg. loss: {:.4f}, Accuracy: {}/{} ({:.0f}%)\\n'.format(\n",
    "        test_loss, correct, len(test_loader.dataset),\n",
    "        100. * correct / len(test_loader.dataset)))"
   ]
  },
  {
   "cell_type": "code",
   "execution_count": 185,
   "metadata": {},
   "outputs": [
    {
     "name": "stdout",
     "output_type": "stream",
     "text": [
      "\n",
      "Test set: Avg. loss: 2.3236, Accuracy: 958/10000 (10%)\n",
      "\n",
      "Train Epoch: 1 [0/60000 (0%)]\tLoss: 2.359157\n",
      "Train Epoch: 1 [6400/60000 (11%)]\tLoss: 2.175403\n",
      "Train Epoch: 1 [12800/60000 (21%)]\tLoss: 1.485162\n",
      "Train Epoch: 1 [19200/60000 (32%)]\tLoss: 1.167926\n",
      "Train Epoch: 1 [25600/60000 (43%)]\tLoss: 0.785056\n",
      "Train Epoch: 1 [32000/60000 (53%)]\tLoss: 0.689566\n",
      "Train Epoch: 1 [38400/60000 (64%)]\tLoss: 0.601035\n",
      "Train Epoch: 1 [44800/60000 (75%)]\tLoss: 0.533913\n",
      "Train Epoch: 1 [51200/60000 (85%)]\tLoss: 0.629176\n",
      "Train Epoch: 1 [57600/60000 (96%)]\tLoss: 0.626975\n",
      "\n",
      "Test set: Avg. loss: 0.2087, Accuracy: 9350/10000 (94%)\n",
      "\n",
      "Train Epoch: 2 [0/60000 (0%)]\tLoss: 0.445065\n",
      "Train Epoch: 2 [6400/60000 (11%)]\tLoss: 0.503924\n",
      "Train Epoch: 2 [12800/60000 (21%)]\tLoss: 0.337413\n",
      "Train Epoch: 2 [19200/60000 (32%)]\tLoss: 0.556463\n",
      "Train Epoch: 2 [25600/60000 (43%)]\tLoss: 0.244589\n",
      "Train Epoch: 2 [32000/60000 (53%)]\tLoss: 0.418317\n",
      "Train Epoch: 2 [38400/60000 (64%)]\tLoss: 0.218889\n",
      "Train Epoch: 2 [44800/60000 (75%)]\tLoss: 0.804613\n",
      "Train Epoch: 2 [51200/60000 (85%)]\tLoss: 0.403743\n",
      "Train Epoch: 2 [57600/60000 (96%)]\tLoss: 0.176502\n",
      "\n",
      "Test set: Avg. loss: 0.1354, Accuracy: 9592/10000 (96%)\n",
      "\n",
      "Train Epoch: 3 [0/60000 (0%)]\tLoss: 0.199353\n",
      "Train Epoch: 3 [6400/60000 (11%)]\tLoss: 0.241339\n",
      "Train Epoch: 3 [12800/60000 (21%)]\tLoss: 0.112566\n",
      "Train Epoch: 3 [19200/60000 (32%)]\tLoss: 0.260326\n",
      "Train Epoch: 3 [25600/60000 (43%)]\tLoss: 0.553870\n",
      "Train Epoch: 3 [32000/60000 (53%)]\tLoss: 0.341342\n",
      "Train Epoch: 3 [38400/60000 (64%)]\tLoss: 0.283554\n",
      "Train Epoch: 3 [44800/60000 (75%)]\tLoss: 0.294859\n",
      "Train Epoch: 3 [51200/60000 (85%)]\tLoss: 0.346713\n",
      "Train Epoch: 3 [57600/60000 (96%)]\tLoss: 0.303031\n",
      "\n",
      "Test set: Avg. loss: 0.1057, Accuracy: 9677/10000 (97%)\n",
      "\n"
     ]
    }
   ],
   "source": [
    "test()\n",
    "for epoch in range(1, 3 + 1):\n",
    "    train(epoch)\n",
    "    test()"
   ]
  },
  {
   "cell_type": "markdown",
   "metadata": {},
   "source": [
    "#### Visualizations\n",
    "\n",
    "Let's visualize the loss over training time:"
   ]
  },
  {
   "cell_type": "code",
   "execution_count": 197,
   "metadata": {},
   "outputs": [
    {
     "data": {
      "image/png": "[encoded data removed]",
      "text/plain": [
       "<Figure size 1440x720 with 1 Axes>"
      ]
     },
     "metadata": {
      "needs_background": "light"
     },
     "output_type": "display_data"
    }
   ],
   "source": [
    "plt.figure(figsize=(20,10))\n",
    "plt.plot(train_losses)\n",
    "plt.legend([\"train loss\"], loc=\"upper left\")\n",
    "plt.title(\"Training loss over time per batch\")\n",
    "plt.show()"
   ]
  },
  {
   "cell_type": "code",
   "execution_count": 201,
   "metadata": {},
   "outputs": [
    {
     "data": {
      "image/png": "[encoded data removed]",
      "text/plain": [
       "<Figure size 1440x720 with 1 Axes>"
      ]
     },
     "metadata": {
      "needs_background": "light"
     },
     "output_type": "display_data"
    }
   ],
   "source": [
    "plt.figure(figsize=(20,10))\n",
    "plt.plot(test_losses, c=\"C1\")\n",
    "plt.legend([\"test loss\"], loc=\"upper left\")\n",
    "plt.title(\"Testing loss per epoch\")\n",
    "plt.show()"
   ]
  },
  {
   "cell_type": "markdown",
   "metadata": {},
   "source": [
    "## Takeaways\n",
    "\n",
    "1. You need to specify the batch size in the dataloader. Compared to Keras and Tensorflow which allow to specify the batch_size in the fit/evaluate/predict function this is a big difference. However, if there is no dataloader you can probably also specify the batch size in your training/testing function. Instead of using the following line of code you can probably define your own way of feeding the data into the network.\n",
    "\n",
    "```python\n",
    "for batch_idx, (data, target) in enumerate(train_loader):\n",
    "```\n",
    "\n",
    "2. You can add prints everywhere which makes it so much easier to debug the whole network and its dimensions. ALthough some of the error messages are hard to understand you can always add print statements in your forward pass of your network module. In fact, you only need to add the following line to understand the dimensions of your network.\n",
    "\n",
    "```python\n",
    "print(x.shape)\n",
    "```\n",
    "\n",
    "3. You can customize the training loop very strongly. As already said, it seems to be very tricky and error prone to define your own training and testing loop. Nonetheless, I think that you can probably copy paste these functions to every new project to make sure to not introduce unnecessary bugs. Additionally, this process allows you to customize a lot of things. For instance, if you have a special way of keeping track of your losses you can do this with PyTorch.\n"
   ]
  },
  {
   "cell_type": "code",
   "execution_count": null,
   "metadata": {},
   "outputs": [],
   "source": []
  }
 ],
 "metadata": {
  "kernelspec": {
   "display_name": "Python 3",
   "language": "python",
   "name": "python3"
  },
  "language_info": {
   "codemirror_mode": {
    "name": "ipython",
    "version": 3
   },
   "file_extension": ".py",
   "mimetype": "text/x-python",
   "name": "python",
   "nbconvert_exporter": "python",
   "pygments_lexer": "ipython3",
   "version": "3.7.5"
  }
 },
 "nbformat": 4,
 "nbformat_minor": 2
}
